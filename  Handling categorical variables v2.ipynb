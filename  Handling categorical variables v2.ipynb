{
 "cells": [
  {
   "cell_type": "markdown",
   "metadata": {},
   "source": [
    "# Predicting Animal Shelter Outcomes v2\n",
    "\n",
    "A guide to handling categorical variables in supervised machine learning.\n",
    "\n",
    "The following notebook is taken from https://medium.com/vickdata/predicting-animal-shelter-outcomes-4c5fad5dbb4f\n",
    "Kudos to Rebecca Vickery for an outstanding example of clever feature engineering.\n",
    "\n",
    "Dr Jose M Albornoz, May 2019"
   ]
  },
  {
   "cell_type": "markdown",
   "metadata": {},
   "source": [
    "The data (to be found [here](https://www.kaggle.com/c/shelter-animal-outcomes)) comprises a number of characteristics about animals that were admitted to the Austin Animal Center between 1st October 2013 and March 2016. You are asked to predict the outcome for each animal of which there are 5 possibilities:\n",
    "\n",
    "* Adoption\n",
    "* Transfer\n",
    "* Return to owner\n",
    "* Euthanasia\n",
    "* Died"
   ]
  },
  {
   "cell_type": "code",
   "execution_count": 1,
   "metadata": {},
   "outputs": [],
   "source": [
    "import pandas as pd\n",
    "import numpy as np\n",
    "\n",
    "import matplotlib.pyplot as plt\n",
    "import matplotlib.style\n",
    "plt.style.use('fivethirtyeight')\n",
    "%matplotlib inline\n",
    "\n",
    "from sklearn.preprocessing import LabelEncoder\n",
    "from sklearn.preprocessing import OneHotEncoder\n",
    "from sklearn.model_selection import train_test_split\n",
    "\n",
    "from sklearn.ensemble import RandomForestClassifier\n",
    "from sklearn.metrics import accuracy_score, log_loss\n",
    "from sklearn.model_selection import GridSearchCV"
   ]
  },
  {
   "cell_type": "markdown",
   "metadata": {},
   "source": [
    "# 1.- Read and inspect data"
   ]
  },
  {
   "cell_type": "code",
   "execution_count": 2,
   "metadata": {},
   "outputs": [],
   "source": [
    "df_0 = pd.read_csv(\"train.csv\")"
   ]
  },
  {
   "cell_type": "code",
   "execution_count": 3,
   "metadata": {},
   "outputs": [
    {
     "data": {
      "text/plain": [
       "(26729, 10)"
      ]
     },
     "execution_count": 3,
     "metadata": {},
     "output_type": "execute_result"
    }
   ],
   "source": [
    "df_0.shape"
   ]
  },
  {
   "cell_type": "code",
   "execution_count": 4,
   "metadata": {},
   "outputs": [
    {
     "data": {
      "text/html": [
       "<div>\n",
       "<style scoped>\n",
       "    .dataframe tbody tr th:only-of-type {\n",
       "        vertical-align: middle;\n",
       "    }\n",
       "\n",
       "    .dataframe tbody tr th {\n",
       "        vertical-align: top;\n",
       "    }\n",
       "\n",
       "    .dataframe thead th {\n",
       "        text-align: right;\n",
       "    }\n",
       "</style>\n",
       "<table border=\"1\" class=\"dataframe\">\n",
       "  <thead>\n",
       "    <tr style=\"text-align: right;\">\n",
       "      <th></th>\n",
       "      <th>AnimalID</th>\n",
       "      <th>Name</th>\n",
       "      <th>DateTime</th>\n",
       "      <th>OutcomeType</th>\n",
       "      <th>OutcomeSubtype</th>\n",
       "      <th>AnimalType</th>\n",
       "      <th>SexuponOutcome</th>\n",
       "      <th>AgeuponOutcome</th>\n",
       "      <th>Breed</th>\n",
       "      <th>Color</th>\n",
       "    </tr>\n",
       "  </thead>\n",
       "  <tbody>\n",
       "    <tr>\n",
       "      <th>0</th>\n",
       "      <td>A671945</td>\n",
       "      <td>Hambone</td>\n",
       "      <td>2014-02-12 18:22:00</td>\n",
       "      <td>Return_to_owner</td>\n",
       "      <td>NaN</td>\n",
       "      <td>Dog</td>\n",
       "      <td>Neutered Male</td>\n",
       "      <td>1 year</td>\n",
       "      <td>Shetland Sheepdog Mix</td>\n",
       "      <td>Brown/White</td>\n",
       "    </tr>\n",
       "    <tr>\n",
       "      <th>1</th>\n",
       "      <td>A656520</td>\n",
       "      <td>Emily</td>\n",
       "      <td>2013-10-13 12:44:00</td>\n",
       "      <td>Euthanasia</td>\n",
       "      <td>Suffering</td>\n",
       "      <td>Cat</td>\n",
       "      <td>Spayed Female</td>\n",
       "      <td>1 year</td>\n",
       "      <td>Domestic Shorthair Mix</td>\n",
       "      <td>Cream Tabby</td>\n",
       "    </tr>\n",
       "    <tr>\n",
       "      <th>2</th>\n",
       "      <td>A686464</td>\n",
       "      <td>Pearce</td>\n",
       "      <td>2015-01-31 12:28:00</td>\n",
       "      <td>Adoption</td>\n",
       "      <td>Foster</td>\n",
       "      <td>Dog</td>\n",
       "      <td>Neutered Male</td>\n",
       "      <td>2 years</td>\n",
       "      <td>Pit Bull Mix</td>\n",
       "      <td>Blue/White</td>\n",
       "    </tr>\n",
       "    <tr>\n",
       "      <th>3</th>\n",
       "      <td>A683430</td>\n",
       "      <td>NaN</td>\n",
       "      <td>2014-07-11 19:09:00</td>\n",
       "      <td>Transfer</td>\n",
       "      <td>Partner</td>\n",
       "      <td>Cat</td>\n",
       "      <td>Intact Male</td>\n",
       "      <td>3 weeks</td>\n",
       "      <td>Domestic Shorthair Mix</td>\n",
       "      <td>Blue Cream</td>\n",
       "    </tr>\n",
       "    <tr>\n",
       "      <th>4</th>\n",
       "      <td>A667013</td>\n",
       "      <td>NaN</td>\n",
       "      <td>2013-11-15 12:52:00</td>\n",
       "      <td>Transfer</td>\n",
       "      <td>Partner</td>\n",
       "      <td>Dog</td>\n",
       "      <td>Neutered Male</td>\n",
       "      <td>2 years</td>\n",
       "      <td>Lhasa Apso/Miniature Poodle</td>\n",
       "      <td>Tan</td>\n",
       "    </tr>\n",
       "  </tbody>\n",
       "</table>\n",
       "</div>"
      ],
      "text/plain": [
       "  AnimalID     Name             DateTime      OutcomeType OutcomeSubtype  \\\n",
       "0  A671945  Hambone  2014-02-12 18:22:00  Return_to_owner            NaN   \n",
       "1  A656520    Emily  2013-10-13 12:44:00       Euthanasia      Suffering   \n",
       "2  A686464   Pearce  2015-01-31 12:28:00         Adoption         Foster   \n",
       "3  A683430      NaN  2014-07-11 19:09:00         Transfer        Partner   \n",
       "4  A667013      NaN  2013-11-15 12:52:00         Transfer        Partner   \n",
       "\n",
       "  AnimalType SexuponOutcome AgeuponOutcome                        Breed  \\\n",
       "0        Dog  Neutered Male         1 year        Shetland Sheepdog Mix   \n",
       "1        Cat  Spayed Female         1 year       Domestic Shorthair Mix   \n",
       "2        Dog  Neutered Male        2 years                 Pit Bull Mix   \n",
       "3        Cat    Intact Male        3 weeks       Domestic Shorthair Mix   \n",
       "4        Dog  Neutered Male        2 years  Lhasa Apso/Miniature Poodle   \n",
       "\n",
       "         Color  \n",
       "0  Brown/White  \n",
       "1  Cream Tabby  \n",
       "2   Blue/White  \n",
       "3   Blue Cream  \n",
       "4          Tan  "
      ]
     },
     "execution_count": 4,
     "metadata": {},
     "output_type": "execute_result"
    }
   ],
   "source": [
    "df_0.head()"
   ]
  },
  {
   "cell_type": "code",
   "execution_count": 5,
   "metadata": {},
   "outputs": [
    {
     "data": {
      "text/plain": [
       "AnimalID          object\n",
       "Name              object\n",
       "DateTime          object\n",
       "OutcomeType       object\n",
       "OutcomeSubtype    object\n",
       "AnimalType        object\n",
       "SexuponOutcome    object\n",
       "AgeuponOutcome    object\n",
       "Breed             object\n",
       "Color             object\n",
       "dtype: object"
      ]
     },
     "execution_count": 5,
     "metadata": {},
     "output_type": "execute_result"
    }
   ],
   "source": [
    "df_0.dtypes"
   ]
  },
  {
   "cell_type": "markdown",
   "metadata": {},
   "source": [
    "All variables are categorical with the exception of *AgeuponOutcome*, which is numerical. Let's visualise the proportion of outcome types:"
   ]
  },
  {
   "cell_type": "code",
   "execution_count": 6,
   "metadata": {},
   "outputs": [
    {
     "data": {
      "text/plain": [
       "<matplotlib.axes._subplots.AxesSubplot at 0x1a40afbbcf8>"
      ]
     },
     "execution_count": 6,
     "metadata": {},
     "output_type": "execute_result"
    },
    {
     "data": {
      "image/png": "[encoded data removed]",
      "text/plain": [
       "<Figure size 720x576 with 1 Axes>"
      ]
     },
     "metadata": {
      "needs_background": "light"
     },
     "output_type": "display_data"
    }
   ],
   "source": [
    "plt.figure(figsize=(10,8))\n",
    "df_0['OutcomeType'].value_counts().plot.bar()"
   ]
  },
  {
   "cell_type": "markdown",
   "metadata": {},
   "source": [
    "We will now get a count of unique values in each column and perform an examination of these unique values"
   ]
  },
  {
   "cell_type": "code",
   "execution_count": 7,
   "metadata": {},
   "outputs": [
    {
     "name": "stdout",
     "output_type": "stream",
     "text": [
      "AnimalID: 26729\n",
      "Name: 6374\n",
      "DateTime: 22918\n",
      "OutcomeType: 5\n",
      "OutcomeSubtype: 16\n",
      "AnimalType: 2\n",
      "SexuponOutcome: 5\n",
      "AgeuponOutcome: 44\n",
      "Breed: 1380\n",
      "Color: 366\n"
     ]
    }
   ],
   "source": [
    "columns = df_0.columns\n",
    "for column in columns:\n",
    "    print(column + \": \" + str(df_0[column].nunique()))"
   ]
  },
  {
   "cell_type": "code",
   "execution_count": 8,
   "metadata": {},
   "outputs": [
    {
     "data": {
      "text/plain": [
       "array([nan, 'Suffering', 'Foster', 'Partner', 'Offsite', 'SCRP',\n",
       "       'Aggressive', 'Behavior', 'Rabies Risk', 'Medical', 'In Kennel',\n",
       "       'In Foster', 'Barn', 'Court/Investigation', 'Enroute', 'At Vet',\n",
       "       'In Surgery'], dtype=object)"
      ]
     },
     "execution_count": 8,
     "metadata": {},
     "output_type": "execute_result"
    }
   ],
   "source": [
    "df_0['OutcomeSubtype'].unique()"
   ]
  },
  {
   "cell_type": "code",
   "execution_count": 9,
   "metadata": {},
   "outputs": [
    {
     "data": {
      "text/plain": [
       "array(['Dog', 'Cat'], dtype=object)"
      ]
     },
     "execution_count": 9,
     "metadata": {},
     "output_type": "execute_result"
    }
   ],
   "source": [
    "df_0['AnimalType'].unique()"
   ]
  },
  {
   "cell_type": "code",
   "execution_count": 10,
   "metadata": {},
   "outputs": [
    {
     "data": {
      "text/plain": [
       "array(['Neutered Male', 'Spayed Female', 'Intact Male', 'Intact Female',\n",
       "       'Unknown', nan], dtype=object)"
      ]
     },
     "execution_count": 10,
     "metadata": {},
     "output_type": "execute_result"
    }
   ],
   "source": [
    "df_0['SexuponOutcome'].unique()"
   ]
  },
  {
   "cell_type": "code",
   "execution_count": 11,
   "metadata": {},
   "outputs": [
    {
     "data": {
      "text/plain": [
       "array(['Hambone', 'Emily', 'Pearce', nan, 'Elsa', 'Jimmy', 'Lucy',\n",
       "       'Rocket', 'Scooter', 'Preston'], dtype=object)"
      ]
     },
     "execution_count": 11,
     "metadata": {},
     "output_type": "execute_result"
    }
   ],
   "source": [
    "df_0['Name'].unique()[:10]"
   ]
  },
  {
   "cell_type": "code",
   "execution_count": 12,
   "metadata": {},
   "outputs": [
    {
     "data": {
      "text/plain": [
       "array(['Shetland Sheepdog Mix', 'Domestic Shorthair Mix', 'Pit Bull Mix',\n",
       "       'Lhasa Apso/Miniature Poodle', 'Cairn Terrier/Chihuahua Shorthair',\n",
       "       'American Pit Bull Terrier Mix', 'Cairn Terrier',\n",
       "       'Miniature Schnauzer Mix', 'Yorkshire Terrier Mix',\n",
       "       'Great Pyrenees Mix'], dtype=object)"
      ]
     },
     "execution_count": 12,
     "metadata": {},
     "output_type": "execute_result"
    }
   ],
   "source": [
    "df_0['Breed'].unique()[:10]"
   ]
  },
  {
   "cell_type": "code",
   "execution_count": 13,
   "metadata": {},
   "outputs": [
    {
     "data": {
      "text/plain": [
       "array(['Brown/White', 'Cream Tabby', 'Blue/White', 'Blue Cream', 'Tan',\n",
       "       'Black/Tan', 'Blue Tabby', 'Brown Tabby', 'Red/White', 'White'],\n",
       "      dtype=object)"
      ]
     },
     "execution_count": 13,
     "metadata": {},
     "output_type": "execute_result"
    }
   ],
   "source": [
    "df_0['Color'].unique()[:10]"
   ]
  },
  {
   "cell_type": "code",
   "execution_count": 14,
   "metadata": {},
   "outputs": [
    {
     "data": {
      "text/plain": [
       "0      1 year\n",
       "1      1 year\n",
       "2     2 years\n",
       "3     3 weeks\n",
       "4     2 years\n",
       "5     1 month\n",
       "6     3 weeks\n",
       "7     3 weeks\n",
       "8    5 months\n",
       "9      1 year\n",
       "Name: AgeuponOutcome, dtype: object"
      ]
     },
     "execution_count": 14,
     "metadata": {},
     "output_type": "execute_result"
    }
   ],
   "source": [
    "df_0['AgeuponOutcome'][:10]"
   ]
  },
  {
   "cell_type": "markdown",
   "metadata": {},
   "source": [
    "# 2.- Data Preprocessing"
   ]
  },
  {
   "cell_type": "code",
   "execution_count": 15,
   "metadata": {},
   "outputs": [],
   "source": [
    "df_1 = df_0.copy()"
   ]
  },
  {
   "cell_type": "markdown",
   "metadata": {},
   "source": [
    "## 2.1.- Missing Values"
   ]
  },
  {
   "cell_type": "code",
   "execution_count": 16,
   "metadata": {},
   "outputs": [
    {
     "name": "stdout",
     "output_type": "stream",
     "text": [
      "AnimalID: 0\n",
      "Name: 7691\n",
      "DateTime: 0\n",
      "OutcomeType: 0\n",
      "OutcomeSubtype: 13612\n",
      "AnimalType: 0\n",
      "SexuponOutcome: 1\n",
      "AgeuponOutcome: 18\n",
      "Breed: 0\n",
      "Color: 0\n"
     ]
    }
   ],
   "source": [
    "columns = df_1.columns\n",
    "for column in columns:\n",
    "    print(column + \": \" + str(df_1[column].isna().sum()))"
   ]
  },
  {
   "cell_type": "code",
   "execution_count": 17,
   "metadata": {},
   "outputs": [
    {
     "data": {
      "text/plain": [
       "AnimalID           0.000000\n",
       "Name              28.773991\n",
       "DateTime           0.000000\n",
       "OutcomeType        0.000000\n",
       "OutcomeSubtype    50.925961\n",
       "AnimalType         0.000000\n",
       "SexuponOutcome     0.003741\n",
       "AgeuponOutcome     0.067343\n",
       "Breed              0.000000\n",
       "Color              0.000000\n",
       "dtype: float64"
      ]
     },
     "execution_count": 17,
     "metadata": {},
     "output_type": "execute_result"
    }
   ],
   "source": [
    "df_1.apply(lambda x: sum(x.isnull()*100/len(df_0)))"
   ]
  },
  {
   "cell_type": "markdown",
   "metadata": {},
   "source": [
    "Half of the outcome subtypes are absent. Roughly 30% of the animals do not have a name (strays?). We will therefore drop *OutcomeSubtype*, and create a new column for name: *HasName*"
   ]
  },
  {
   "cell_type": "code",
   "execution_count": 18,
   "metadata": {},
   "outputs": [],
   "source": [
    "df_1.drop(\"OutcomeSubtype\", axis=1, inplace=True)"
   ]
  },
  {
   "cell_type": "code",
   "execution_count": 19,
   "metadata": {},
   "outputs": [],
   "source": [
    "df_1['Name'] = df_1['Name'].fillna(value=0)\n",
    "df_1['hasName'] = (df_1['Name'] != 0).astype('int64')\n",
    "df_1.drop('Name', axis=1, inplace=True)"
   ]
  },
  {
   "cell_type": "markdown",
   "metadata": {},
   "source": [
    "*SexuponOutcome* and *AgeuponOutcome* have a small proportion of missing values, and therefore these will be replaced by the most common value in each column"
   ]
  },
  {
   "cell_type": "code",
   "execution_count": 20,
   "metadata": {},
   "outputs": [],
   "source": [
    "df_1 = df_1.apply(lambda x:x.fillna(x.value_counts().index[0]))"
   ]
  },
  {
   "cell_type": "code",
   "execution_count": 21,
   "metadata": {},
   "outputs": [
    {
     "data": {
      "text/plain": [
       "AnimalID          0.0\n",
       "DateTime          0.0\n",
       "OutcomeType       0.0\n",
       "AnimalType        0.0\n",
       "SexuponOutcome    0.0\n",
       "AgeuponOutcome    0.0\n",
       "Breed             0.0\n",
       "Color             0.0\n",
       "hasName           0.0\n",
       "dtype: float64"
      ]
     },
     "execution_count": 21,
     "metadata": {},
     "output_type": "execute_result"
    }
   ],
   "source": [
    "df_1.apply(lambda x: sum(x.isnull()*100/len(df_1)))"
   ]
  },
  {
   "cell_type": "markdown",
   "metadata": {},
   "source": [
    "Finally, *AnimalID* and *DateTime* are dropped as they do not provide any meaningful information"
   ]
  },
  {
   "cell_type": "code",
   "execution_count": 22,
   "metadata": {},
   "outputs": [],
   "source": [
    "df_1.drop(['DateTime', 'AnimalID'], axis=1, inplace=True)"
   ]
  },
  {
   "cell_type": "markdown",
   "metadata": {},
   "source": [
    "## 2.2.- Encoding Categorical Variables"
   ]
  },
  {
   "cell_type": "markdown",
   "metadata": {},
   "source": [
    "Given that there are only two levels in this variable, one-hot encoding is a good encoding choice."
   ]
  },
  {
   "cell_type": "code",
   "execution_count": 23,
   "metadata": {},
   "outputs": [],
   "source": [
    "df_1[['Cat', 'Dog']] = pd.get_dummies(df_1['AnimalType'])"
   ]
  },
  {
   "cell_type": "code",
   "execution_count": 24,
   "metadata": {},
   "outputs": [],
   "source": [
    "df_1.drop(\"AnimalType\", axis=1, inplace=True)"
   ]
  },
  {
   "cell_type": "code",
   "execution_count": 25,
   "metadata": {},
   "outputs": [
    {
     "data": {
      "text/html": [
       "<div>\n",
       "<style scoped>\n",
       "    .dataframe tbody tr th:only-of-type {\n",
       "        vertical-align: middle;\n",
       "    }\n",
       "\n",
       "    .dataframe tbody tr th {\n",
       "        vertical-align: top;\n",
       "    }\n",
       "\n",
       "    .dataframe thead th {\n",
       "        text-align: right;\n",
       "    }\n",
       "</style>\n",
       "<table border=\"1\" class=\"dataframe\">\n",
       "  <thead>\n",
       "    <tr style=\"text-align: right;\">\n",
       "      <th></th>\n",
       "      <th>OutcomeType</th>\n",
       "      <th>SexuponOutcome</th>\n",
       "      <th>AgeuponOutcome</th>\n",
       "      <th>Breed</th>\n",
       "      <th>Color</th>\n",
       "      <th>hasName</th>\n",
       "      <th>Cat</th>\n",
       "      <th>Dog</th>\n",
       "    </tr>\n",
       "  </thead>\n",
       "  <tbody>\n",
       "    <tr>\n",
       "      <th>0</th>\n",
       "      <td>Return_to_owner</td>\n",
       "      <td>Neutered Male</td>\n",
       "      <td>1 year</td>\n",
       "      <td>Shetland Sheepdog Mix</td>\n",
       "      <td>Brown/White</td>\n",
       "      <td>1</td>\n",
       "      <td>0</td>\n",
       "      <td>1</td>\n",
       "    </tr>\n",
       "    <tr>\n",
       "      <th>1</th>\n",
       "      <td>Euthanasia</td>\n",
       "      <td>Spayed Female</td>\n",
       "      <td>1 year</td>\n",
       "      <td>Domestic Shorthair Mix</td>\n",
       "      <td>Cream Tabby</td>\n",
       "      <td>1</td>\n",
       "      <td>1</td>\n",
       "      <td>0</td>\n",
       "    </tr>\n",
       "    <tr>\n",
       "      <th>2</th>\n",
       "      <td>Adoption</td>\n",
       "      <td>Neutered Male</td>\n",
       "      <td>2 years</td>\n",
       "      <td>Pit Bull Mix</td>\n",
       "      <td>Blue/White</td>\n",
       "      <td>1</td>\n",
       "      <td>0</td>\n",
       "      <td>1</td>\n",
       "    </tr>\n",
       "    <tr>\n",
       "      <th>3</th>\n",
       "      <td>Transfer</td>\n",
       "      <td>Intact Male</td>\n",
       "      <td>3 weeks</td>\n",
       "      <td>Domestic Shorthair Mix</td>\n",
       "      <td>Blue Cream</td>\n",
       "      <td>0</td>\n",
       "      <td>1</td>\n",
       "      <td>0</td>\n",
       "    </tr>\n",
       "    <tr>\n",
       "      <th>4</th>\n",
       "      <td>Transfer</td>\n",
       "      <td>Neutered Male</td>\n",
       "      <td>2 years</td>\n",
       "      <td>Lhasa Apso/Miniature Poodle</td>\n",
       "      <td>Tan</td>\n",
       "      <td>0</td>\n",
       "      <td>0</td>\n",
       "      <td>1</td>\n",
       "    </tr>\n",
       "  </tbody>\n",
       "</table>\n",
       "</div>"
      ],
      "text/plain": [
       "       OutcomeType SexuponOutcome AgeuponOutcome                        Breed  \\\n",
       "0  Return_to_owner  Neutered Male         1 year        Shetland Sheepdog Mix   \n",
       "1       Euthanasia  Spayed Female         1 year       Domestic Shorthair Mix   \n",
       "2         Adoption  Neutered Male        2 years                 Pit Bull Mix   \n",
       "3         Transfer    Intact Male        3 weeks       Domestic Shorthair Mix   \n",
       "4         Transfer  Neutered Male        2 years  Lhasa Apso/Miniature Poodle   \n",
       "\n",
       "         Color  hasName  Cat  Dog  \n",
       "0  Brown/White        1    0    1  \n",
       "1  Cream Tabby        1    1    0  \n",
       "2   Blue/White        1    0    1  \n",
       "3   Blue Cream        0    1    0  \n",
       "4          Tan        0    0    1  "
      ]
     },
     "execution_count": 25,
     "metadata": {},
     "output_type": "execute_result"
    }
   ],
   "source": [
    "df_1.head()"
   ]
  },
  {
   "cell_type": "markdown",
   "metadata": {},
   "source": [
    "There are two features with very high cardinality: *Breed* and *Color*. In this first version of the notebook we will reduce the cardinality of these features by encoding each of the most commonly occurring values, and placing the remaining values into a label called “other”"
   ]
  },
  {
   "cell_type": "markdown",
   "metadata": {},
   "source": [
    "### 2.2.1.- Color"
   ]
  },
  {
   "cell_type": "code",
   "execution_count": 26,
   "metadata": {},
   "outputs": [],
   "source": [
    "color_counts = df_1['Color'].value_counts()"
   ]
  },
  {
   "cell_type": "code",
   "execution_count": 27,
   "metadata": {},
   "outputs": [
    {
     "data": {
      "text/plain": [
       "<matplotlib.axes._subplots.AxesSubplot at 0x1a40b4ab940>"
      ]
     },
     "execution_count": 27,
     "metadata": {},
     "output_type": "execute_result"
    },
    {
     "data": {
      "image/png": "[encoded data removed]",
      "text/plain": [
       "<Figure size 720x576 with 1 Axes>"
      ]
     },
     "metadata": {
      "needs_background": "light"
     },
     "output_type": "display_data"
    }
   ],
   "source": [
    "plt.figure(figsize=(10,8))\n",
    "color_counts.plot.bar()"
   ]
  },
  {
   "cell_type": "code",
   "execution_count": 28,
   "metadata": {},
   "outputs": [
    {
     "data": {
      "text/plain": [
       "Black/White            2824\n",
       "Black                  2292\n",
       "Brown Tabby            1635\n",
       "Brown Tabby/White       940\n",
       "White                   931\n",
       "Brown/White             884\n",
       "Orange Tabby            841\n",
       "Tan/White               773\n",
       "Tricolor                752\n",
       "Blue/White              702\n",
       "Black/Tan               672\n",
       "White/Black             643\n",
       "Brown                   639\n",
       "Tan                     628\n",
       "White/Brown             569\n",
       "Tortie                  530\n",
       "Calico                  517\n",
       "Orange Tabby/White      455\n",
       "Blue                    450\n",
       "Brown Brindle/White     450\n",
       "Black/Brown             436\n",
       "Blue Tabby              433\n",
       "White/Tan               389\n",
       "Red                     337\n",
       "Torbie                  335\n",
       "Brown/Black             333\n",
       "Red/White               331\n",
       "Blue Tabby/White        241\n",
       "Brown Brindle           232\n",
       "Chocolate/White         224\n",
       "Buff                    199\n",
       "Cream Tabby             198\n",
       "Sable                   198\n",
       "Yellow                  185\n",
       "Tan/Black               183\n",
       "Lynx Point              168\n",
       "Cream                   151\n",
       "Chocolate               137\n",
       "Seal Point              136\n",
       "White/Blue              131\n",
       "White/Brown Brindle     115\n",
       "Fawn/White              109\n",
       "White/Brown Tabby        98\n",
       "Gray/White               96\n",
       "Gray                     94\n",
       "Sable/White              86\n",
       "Flame Point              85\n",
       "Cream Tabby/White        79\n",
       "Blue Merle               77\n",
       "Black Brindle/White      74\n",
       "Name: Color, dtype: int64"
      ]
     },
     "execution_count": 28,
     "metadata": {},
     "output_type": "execute_result"
    }
   ],
   "source": [
    "color_counts[:50]"
   ]
  },
  {
   "cell_type": "code",
   "execution_count": 29,
   "metadata": {},
   "outputs": [
    {
     "name": "stdout",
     "output_type": "stream",
     "text": [
      "43\n"
     ]
    }
   ],
   "source": [
    "color_others = set(color_counts[color_counts < 100].index)\n",
    "df_1['top_colors'] = df_1['Color'].replace(list(color_others), 'Others')\n",
    "print(df_1['top_colors'].nunique())"
   ]
  },
  {
   "cell_type": "markdown",
   "metadata": {},
   "source": [
    "### 2.2.2.- Breed"
   ]
  },
  {
   "cell_type": "code",
   "execution_count": 30,
   "metadata": {},
   "outputs": [],
   "source": [
    "breed_counts = df_1['Breed'].value_counts()"
   ]
  },
  {
   "cell_type": "code",
   "execution_count": 31,
   "metadata": {},
   "outputs": [
    {
     "data": {
      "text/plain": [
       "Domestic Shorthair Mix                8810\n",
       "Pit Bull Mix                          1906\n",
       "Chihuahua Shorthair Mix               1766\n",
       "Labrador Retriever Mix                1363\n",
       "Domestic Medium Hair Mix               839\n",
       "German Shepherd Mix                    575\n",
       "Domestic Longhair Mix                  520\n",
       "Siamese Mix                            389\n",
       "Australian Cattle Dog Mix              367\n",
       "Dachshund Mix                          318\n",
       "Boxer Mix                              245\n",
       "Miniature Poodle Mix                   233\n",
       "Border Collie Mix                      229\n",
       "Australian Shepherd Mix                163\n",
       "Rat Terrier Mix                        157\n",
       "Catahoula Mix                          157\n",
       "Jack Russell Terrier Mix               146\n",
       "Yorkshire Terrier Mix                  143\n",
       "Domestic Shorthair                     143\n",
       "Chihuahua Longhair Mix                 142\n",
       "Siberian Husky Mix                     138\n",
       "Miniature Schnauzer Mix                136\n",
       "Beagle Mix                             124\n",
       "Rottweiler Mix                         113\n",
       "American Bulldog Mix                   109\n",
       "Cairn Terrier Mix                      102\n",
       "Shih Tzu Mix                           100\n",
       "Chihuahua Shorthair/Dachshund           98\n",
       "Australian Kelpie Mix                   95\n",
       "Staffordshire Mix                       94\n",
       "Pointer Mix                             93\n",
       "American Staffordshire Terrier Mix      92\n",
       "Great Pyrenees Mix                      86\n",
       "Chihuahua Shorthair                     85\n",
       "Labrador Retriever/Pit Bull             81\n",
       "German Shepherd                         77\n",
       "Anatol Shepherd Mix                     76\n",
       "Snowshoe Mix                            75\n",
       "Plott Hound Mix                         73\n",
       "Dachshund/Chihuahua Shorthair           69\n",
       "Miniature Pinscher Mix                  69\n",
       "Labrador Retriever                      69\n",
       "American Pit Bull Terrier Mix           68\n",
       "Pit Bull                                66\n",
       "Golden Retriever Mix                    66\n",
       "German Shepherd/Labrador Retriever      64\n",
       "Black Mouth Cur Mix                     63\n",
       "Chow Chow Mix                           57\n",
       "Labrador Retriever/German Shepherd      56\n",
       "Cardigan Welsh Corgi Mix                54\n",
       "Name: Breed, dtype: int64"
      ]
     },
     "execution_count": 31,
     "metadata": {},
     "output_type": "execute_result"
    }
   ],
   "source": [
    "breed_counts[:50]"
   ]
  },
  {
   "cell_type": "code",
   "execution_count": 32,
   "metadata": {},
   "outputs": [],
   "source": [
    "breed_others = set(breed_counts[breed_counts < 100].index)"
   ]
  },
  {
   "cell_type": "code",
   "execution_count": 34,
   "metadata": {},
   "outputs": [
    {
     "name": "stdout",
     "output_type": "stream",
     "text": [
      "28\n"
     ]
    }
   ],
   "source": [
    "df_1['top_breeds'] = df_1['Breed'].replace(list(breed_others), 'Others')\n",
    "print(df_1['top_breeds'].nunique())"
   ]
  },
  {
   "cell_type": "markdown",
   "metadata": {},
   "source": [
    "### 2.2.3.- One-hot encoding of *top_colors* and *top_breeds*"
   ]
  },
  {
   "cell_type": "code",
   "execution_count": 35,
   "metadata": {},
   "outputs": [],
   "source": [
    "df_1 = pd.get_dummies(df_1, prefix_sep=\"_\", columns=['top_colors', 'top_breeds'])"
   ]
  },
  {
   "cell_type": "code",
   "execution_count": 37,
   "metadata": {},
   "outputs": [
    {
     "data": {
      "text/html": [
       "<div>\n",
       "<style scoped>\n",
       "    .dataframe tbody tr th:only-of-type {\n",
       "        vertical-align: middle;\n",
       "    }\n",
       "\n",
       "    .dataframe tbody tr th {\n",
       "        vertical-align: top;\n",
       "    }\n",
       "\n",
       "    .dataframe thead th {\n",
       "        text-align: right;\n",
       "    }\n",
       "</style>\n",
       "<table border=\"1\" class=\"dataframe\">\n",
       "  <thead>\n",
       "    <tr style=\"text-align: right;\">\n",
       "      <th></th>\n",
       "      <th>OutcomeType</th>\n",
       "      <th>SexuponOutcome</th>\n",
       "      <th>AgeuponOutcome</th>\n",
       "      <th>Breed</th>\n",
       "      <th>Color</th>\n",
       "      <th>hasName</th>\n",
       "      <th>Cat</th>\n",
       "      <th>Dog</th>\n",
       "      <th>top_colors_Black</th>\n",
       "      <th>top_colors_Black/Brown</th>\n",
       "      <th>...</th>\n",
       "      <th>top_breeds_Miniature Poodle Mix</th>\n",
       "      <th>top_breeds_Miniature Schnauzer Mix</th>\n",
       "      <th>top_breeds_Others</th>\n",
       "      <th>top_breeds_Pit Bull Mix</th>\n",
       "      <th>top_breeds_Rat Terrier Mix</th>\n",
       "      <th>top_breeds_Rottweiler Mix</th>\n",
       "      <th>top_breeds_Shih Tzu Mix</th>\n",
       "      <th>top_breeds_Siamese Mix</th>\n",
       "      <th>top_breeds_Siberian Husky Mix</th>\n",
       "      <th>top_breeds_Yorkshire Terrier Mix</th>\n",
       "    </tr>\n",
       "  </thead>\n",
       "  <tbody>\n",
       "    <tr>\n",
       "      <th>0</th>\n",
       "      <td>Return_to_owner</td>\n",
       "      <td>Neutered Male</td>\n",
       "      <td>1 year</td>\n",
       "      <td>Shetland Sheepdog Mix</td>\n",
       "      <td>Brown/White</td>\n",
       "      <td>1</td>\n",
       "      <td>0</td>\n",
       "      <td>1</td>\n",
       "      <td>0</td>\n",
       "      <td>0</td>\n",
       "      <td>...</td>\n",
       "      <td>0</td>\n",
       "      <td>0</td>\n",
       "      <td>1</td>\n",
       "      <td>0</td>\n",
       "      <td>0</td>\n",
       "      <td>0</td>\n",
       "      <td>0</td>\n",
       "      <td>0</td>\n",
       "      <td>0</td>\n",
       "      <td>0</td>\n",
       "    </tr>\n",
       "    <tr>\n",
       "      <th>1</th>\n",
       "      <td>Euthanasia</td>\n",
       "      <td>Spayed Female</td>\n",
       "      <td>1 year</td>\n",
       "      <td>Domestic Shorthair Mix</td>\n",
       "      <td>Cream Tabby</td>\n",
       "      <td>1</td>\n",
       "      <td>1</td>\n",
       "      <td>0</td>\n",
       "      <td>0</td>\n",
       "      <td>0</td>\n",
       "      <td>...</td>\n",
       "      <td>0</td>\n",
       "      <td>0</td>\n",
       "      <td>0</td>\n",
       "      <td>0</td>\n",
       "      <td>0</td>\n",
       "      <td>0</td>\n",
       "      <td>0</td>\n",
       "      <td>0</td>\n",
       "      <td>0</td>\n",
       "      <td>0</td>\n",
       "    </tr>\n",
       "    <tr>\n",
       "      <th>2</th>\n",
       "      <td>Adoption</td>\n",
       "      <td>Neutered Male</td>\n",
       "      <td>2 years</td>\n",
       "      <td>Pit Bull Mix</td>\n",
       "      <td>Blue/White</td>\n",
       "      <td>1</td>\n",
       "      <td>0</td>\n",
       "      <td>1</td>\n",
       "      <td>0</td>\n",
       "      <td>0</td>\n",
       "      <td>...</td>\n",
       "      <td>0</td>\n",
       "      <td>0</td>\n",
       "      <td>0</td>\n",
       "      <td>1</td>\n",
       "      <td>0</td>\n",
       "      <td>0</td>\n",
       "      <td>0</td>\n",
       "      <td>0</td>\n",
       "      <td>0</td>\n",
       "      <td>0</td>\n",
       "    </tr>\n",
       "    <tr>\n",
       "      <th>3</th>\n",
       "      <td>Transfer</td>\n",
       "      <td>Intact Male</td>\n",
       "      <td>3 weeks</td>\n",
       "      <td>Domestic Shorthair Mix</td>\n",
       "      <td>Blue Cream</td>\n",
       "      <td>0</td>\n",
       "      <td>1</td>\n",
       "      <td>0</td>\n",
       "      <td>0</td>\n",
       "      <td>0</td>\n",
       "      <td>...</td>\n",
       "      <td>0</td>\n",
       "      <td>0</td>\n",
       "      <td>0</td>\n",
       "      <td>0</td>\n",
       "      <td>0</td>\n",
       "      <td>0</td>\n",
       "      <td>0</td>\n",
       "      <td>0</td>\n",
       "      <td>0</td>\n",
       "      <td>0</td>\n",
       "    </tr>\n",
       "    <tr>\n",
       "      <th>4</th>\n",
       "      <td>Transfer</td>\n",
       "      <td>Neutered Male</td>\n",
       "      <td>2 years</td>\n",
       "      <td>Lhasa Apso/Miniature Poodle</td>\n",
       "      <td>Tan</td>\n",
       "      <td>0</td>\n",
       "      <td>0</td>\n",
       "      <td>1</td>\n",
       "      <td>0</td>\n",
       "      <td>0</td>\n",
       "      <td>...</td>\n",
       "      <td>0</td>\n",
       "      <td>0</td>\n",
       "      <td>1</td>\n",
       "      <td>0</td>\n",
       "      <td>0</td>\n",
       "      <td>0</td>\n",
       "      <td>0</td>\n",
       "      <td>0</td>\n",
       "      <td>0</td>\n",
       "      <td>0</td>\n",
       "    </tr>\n",
       "  </tbody>\n",
       "</table>\n",
       "<p>5 rows × 79 columns</p>\n",
       "</div>"
      ],
      "text/plain": [
       "       OutcomeType SexuponOutcome AgeuponOutcome                        Breed  \\\n",
       "0  Return_to_owner  Neutered Male         1 year        Shetland Sheepdog Mix   \n",
       "1       Euthanasia  Spayed Female         1 year       Domestic Shorthair Mix   \n",
       "2         Adoption  Neutered Male        2 years                 Pit Bull Mix   \n",
       "3         Transfer    Intact Male        3 weeks       Domestic Shorthair Mix   \n",
       "4         Transfer  Neutered Male        2 years  Lhasa Apso/Miniature Poodle   \n",
       "\n",
       "         Color  hasName  Cat  Dog  top_colors_Black  top_colors_Black/Brown  \\\n",
       "0  Brown/White        1    0    1                 0                       0   \n",
       "1  Cream Tabby        1    1    0                 0                       0   \n",
       "2   Blue/White        1    0    1                 0                       0   \n",
       "3   Blue Cream        0    1    0                 0                       0   \n",
       "4          Tan        0    0    1                 0                       0   \n",
       "\n",
       "   ...  top_breeds_Miniature Poodle Mix  top_breeds_Miniature Schnauzer Mix  \\\n",
       "0  ...                                0                                   0   \n",
       "1  ...                                0                                   0   \n",
       "2  ...                                0                                   0   \n",
       "3  ...                                0                                   0   \n",
       "4  ...                                0                                   0   \n",
       "\n",
       "   top_breeds_Others  top_breeds_Pit Bull Mix  top_breeds_Rat Terrier Mix  \\\n",
       "0                  1                        0                           0   \n",
       "1                  0                        0                           0   \n",
       "2                  0                        1                           0   \n",
       "3                  0                        0                           0   \n",
       "4                  1                        0                           0   \n",
       "\n",
       "   top_breeds_Rottweiler Mix  top_breeds_Shih Tzu Mix  top_breeds_Siamese Mix  \\\n",
       "0                          0                        0                       0   \n",
       "1                          0                        0                       0   \n",
       "2                          0                        0                       0   \n",
       "3                          0                        0                       0   \n",
       "4                          0                        0                       0   \n",
       "\n",
       "   top_breeds_Siberian Husky Mix  top_breeds_Yorkshire Terrier Mix  \n",
       "0                              0                                 0  \n",
       "1                              0                                 0  \n",
       "2                              0                                 0  \n",
       "3                              0                                 0  \n",
       "4                              0                                 0  \n",
       "\n",
       "[5 rows x 79 columns]"
      ]
     },
     "execution_count": 37,
     "metadata": {},
     "output_type": "execute_result"
    }
   ],
   "source": [
    "df_1.head()"
   ]
  },
  {
   "cell_type": "code",
   "execution_count": 38,
   "metadata": {},
   "outputs": [],
   "source": [
    "df_1.drop(['Color', 'Breed'], axis=1, inplace=True)"
   ]
  },
  {
   "cell_type": "markdown",
   "metadata": {},
   "source": [
    "### 2.2.3.- Other features"
   ]
  },
  {
   "cell_type": "code",
   "execution_count": 39,
   "metadata": {},
   "outputs": [],
   "source": [
    "le = LabelEncoder()"
   ]
  },
  {
   "cell_type": "code",
   "execution_count": 40,
   "metadata": {},
   "outputs": [],
   "source": [
    "df_1['SexuponOutcome_encoded'] = le.fit_transform(df_1['SexuponOutcome'])"
   ]
  },
  {
   "cell_type": "code",
   "execution_count": 41,
   "metadata": {},
   "outputs": [],
   "source": [
    "df_1.drop('SexuponOutcome', axis=1, inplace=True)"
   ]
  },
  {
   "cell_type": "code",
   "execution_count": 42,
   "metadata": {},
   "outputs": [],
   "source": [
    "df_1['Label'] = le.fit_transform(df_1['OutcomeType'])"
   ]
  },
  {
   "cell_type": "code",
   "execution_count": 43,
   "metadata": {},
   "outputs": [],
   "source": [
    "df_1.drop('OutcomeType', axis=1, inplace=True)"
   ]
  },
  {
   "cell_type": "markdown",
   "metadata": {},
   "source": [
    "*AgeuponOutcome* is a string-based variable that will be converted in age in days using the below function from the Kaggle kernel:"
   ]
  },
  {
   "cell_type": "code",
   "execution_count": 45,
   "metadata": {},
   "outputs": [],
   "source": [
    "def age_converter(row):\n",
    "    age_string = row['AgeuponOutcome']\n",
    "    [age,unit] = age_string.split(\" \")\n",
    "    unit = unit.lower()\n",
    "    if(\"day\" in unit):\n",
    "        if age=='0': return 1\n",
    "        return int(age)\n",
    "    if(\"week\" in unit):\n",
    "        if(age)=='0': return 7\n",
    "        return int(age)*7\n",
    "    elif(\"month\" in unit):\n",
    "        if(age)=='0': return 30\n",
    "        return int(age) * 4*7\n",
    "    elif(\"year\" in unit):\n",
    "        if(age)=='0': return 365\n",
    "        return int(age) * 4*12*7"
   ]
  },
  {
   "cell_type": "code",
   "execution_count": 46,
   "metadata": {},
   "outputs": [],
   "source": [
    "df_1['age_numeric'] = df_1.apply(age_converter, axis=1)"
   ]
  },
  {
   "cell_type": "code",
   "execution_count": 47,
   "metadata": {},
   "outputs": [],
   "source": [
    "df_1.drop('AgeuponOutcome', axis=1, inplace=True)"
   ]
  },
  {
   "cell_type": "code",
   "execution_count": 48,
   "metadata": {},
   "outputs": [
    {
     "data": {
      "text/plain": [
       "(26729, 77)"
      ]
     },
     "execution_count": 48,
     "metadata": {},
     "output_type": "execute_result"
    }
   ],
   "source": [
    "df_1.shape"
   ]
  },
  {
   "cell_type": "markdown",
   "metadata": {},
   "source": [
    "# 3.- Model Training"
   ]
  },
  {
   "cell_type": "markdown",
   "metadata": {},
   "source": [
    "## 3.1.- Train-Test Split"
   ]
  },
  {
   "cell_type": "code",
   "execution_count": 49,
   "metadata": {},
   "outputs": [],
   "source": [
    "X = df_1.drop('Label', axis=1)\n",
    "y = df_1['Label']"
   ]
  },
  {
   "cell_type": "code",
   "execution_count": 50,
   "metadata": {},
   "outputs": [],
   "source": [
    "X_train, X_test, y_train, y_test = train_test_split(X, y, test_size=0.30, random_state=1)"
   ]
  },
  {
   "cell_type": "markdown",
   "metadata": {},
   "source": [
    "## 3.2.- Grid Search"
   ]
  },
  {
   "cell_type": "code",
   "execution_count": 51,
   "metadata": {},
   "outputs": [],
   "source": [
    "n_trees = [100, 150, 200, 250]\n",
    "max_depth = [5, 10, 15, 20, 25, 30]\n",
    "min_samples_leaf = [10, 15, 20, 25, 30, 35, 40, 45, 50]\n",
    "param_grid = [{'n_estimators': n_trees, 'max_depth': max_depth, 'min_samples_leaf': min_samples_leaf}]"
   ]
  },
  {
   "cell_type": "code",
   "execution_count": 52,
   "metadata": {},
   "outputs": [],
   "source": [
    "rf = RandomForestClassifier()\n",
    "gs = GridSearchCV(estimator=rf, param_grid=param_grid, scoring='accuracy', cv=10, n_jobs=-1)"
   ]
  },
  {
   "cell_type": "code",
   "execution_count": 53,
   "metadata": {},
   "outputs": [],
   "source": [
    "gs = gs.fit(X_train, y_train)"
   ]
  },
  {
   "cell_type": "code",
   "execution_count": 54,
   "metadata": {},
   "outputs": [
    {
     "name": "stdout",
     "output_type": "stream",
     "text": [
      "0.6414751469802245\n"
     ]
    }
   ],
   "source": [
    "print(gs.best_score_)"
   ]
  },
  {
   "cell_type": "code",
   "execution_count": 55,
   "metadata": {},
   "outputs": [
    {
     "name": "stdout",
     "output_type": "stream",
     "text": [
      "{'max_depth': 30, 'min_samples_leaf': 10, 'n_estimators': 200}\n"
     ]
    }
   ],
   "source": [
    "print(gs.best_params_)"
   ]
  },
  {
   "cell_type": "code",
   "execution_count": 56,
   "metadata": {},
   "outputs": [],
   "source": [
    "clf = gs.best_estimator_"
   ]
  },
  {
   "cell_type": "markdown",
   "metadata": {},
   "source": [
    "## 3.3.- Performance on test set"
   ]
  },
  {
   "cell_type": "code",
   "execution_count": 57,
   "metadata": {},
   "outputs": [
    {
     "name": "stdout",
     "output_type": "stream",
     "text": [
      "0.6423494201271979\n"
     ]
    }
   ],
   "source": [
    "y_pred = clf.predict(X_test)\n",
    "print(accuracy_score(y_test,y_pred))"
   ]
  },
  {
   "cell_type": "markdown",
   "metadata": {},
   "source": [
    "Nice - no overfitting"
   ]
  },
  {
   "cell_type": "code",
   "execution_count": 58,
   "metadata": {},
   "outputs": [
    {
     "name": "stdout",
     "output_type": "stream",
     "text": [
      "0.8910456833684449\n"
     ]
    }
   ],
   "source": [
    "y_prob = clf.predict_proba(X_test)\n",
    "print(log_loss(y_test, y_prob))"
   ]
  },
  {
   "cell_type": "markdown",
   "metadata": {},
   "source": [
    "## 3.4.- Feature Importances"
   ]
  },
  {
   "cell_type": "code",
   "execution_count": 59,
   "metadata": {},
   "outputs": [],
   "source": [
    "features = X.columns\n",
    "importances = clf.feature_importances_\n",
    "indices = np.argsort(importances)"
   ]
  },
  {
   "cell_type": "code",
   "execution_count": 60,
   "metadata": {},
   "outputs": [
    {
     "data": {
      "text/plain": [
       "<function matplotlib.pyplot.show(*args, **kw)>"
      ]
     },
     "execution_count": 60,
     "metadata": {},
     "output_type": "execute_result"
    },
    {
     "data": {
      "image/png": "[encoded data removed]",
      "text/plain": [
       "<Figure size 720x1440 with 1 Axes>"
      ]
     },
     "metadata": {
      "needs_background": "light"
     },
     "output_type": "display_data"
    }
   ],
   "source": [
    "plt.figure(figsize=(10,20))\n",
    "plt.title('Feature Importances')\n",
    "plt.barh(range(len(indices)), importances[indices], color='b', align='center')\n",
    "plt.yticks(range(len(indices)), features[indices])\n",
    "plt.xlabel('Relative Importance')\n",
    "plt.show"
   ]
  },
  {
   "cell_type": "code",
   "execution_count": null,
   "metadata": {},
   "outputs": [],
   "source": []
  }
 ],
 "metadata": {
  "kernelspec": {
   "display_name": "Python 3",
   "language": "python",
   "name": "python3"
  },
  "language_info": {
   "codemirror_mode": {
    "name": "ipython",
    "version": 3
   },
   "file_extension": ".py",
   "mimetype": "text/x-python",
   "name": "python",
   "nbconvert_exporter": "python",
   "pygments_lexer": "ipython3",
   "version": "3.7.3"
  }
 },
 "nbformat": 4,
 "nbformat_minor": 2
}
